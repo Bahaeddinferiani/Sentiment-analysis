{
  "cells": [
    {
      "cell_type": "markdown",
      "metadata": {
        "id": "view-in-github",
        "colab_type": "text"
      },
      "source": [
        "<a href=\"https://colab.research.google.com/github/Bahaeddinferiani/Sentiment-analysis/blob/main/SentimentAnalysis.ipynb\" target=\"_parent\"><img src=\"https://colab.research.google.com/assets/colab-badge.svg\" alt=\"Open In Colab\"/></a>"
      ]
    },
    {
      "cell_type": "code",
      "execution_count": null,
      "metadata": {
        "id": "w6o8-g0tEqNz"
      },
      "outputs": [],
      "source": [
        "! pip install -q pyspark==3.1.2 spark-nlp"
      ]
    },
    {
      "cell_type": "code",
      "execution_count": null,
      "metadata": {
        "id": "yMmT9S6mE0ad"
      },
      "outputs": [],
      "source": [
        "import pandas as pd\n",
        "import numpy as np\n",
        "import json\n",
        "from pyspark.ml import Pipeline\n",
        "from pyspark.sql import SparkSession\n",
        "import pyspark.sql.functions as F\n",
        "from sparknlp.annotator import *\n",
        "from sparknlp.base import *\n",
        "import sparknlp\n",
        "from sparknlp.pretrained import PretrainedPipeline"
      ]
    },
    {
      "cell_type": "markdown",
      "metadata": {
        "id": "Z3n4NloINS22"
      },
      "source": [
        "## 2. Demarrage d'une session spark"
      ]
    },
    {
      "cell_type": "code",
      "execution_count": null,
      "metadata": {
        "id": "4zBXbY_vE2ss"
      },
      "outputs": [],
      "source": [
        "spark = sparknlp.start()"
      ]
    },
    {
      "cell_type": "markdown",
      "metadata": {
        "id": "4--UYjmMNWBK"
      },
      "source": [
        "## 3. Nom du model\n"
      ]
    },
    {
      "cell_type": "code",
      "execution_count": null,
      "metadata": {
        "id": "1XxHWemdE5hX"
      },
      "outputs": [],
      "source": [
        "MODEL_NAME='sentimentdl_use_imdb'\n"
      ]
    },
    {
      "cell_type": "markdown",
      "metadata": {
        "id": "tp7MDziuNdGa"
      },
      "source": [
        "## 4. Importation du fichier json et transformation en un table "
      ]
    },
    {
      "cell_type": "code",
      "execution_count": null,
      "metadata": {
        "id": "GJ7GCD0pFDvP"
      },
      "outputs": [],
      "source": [
        "f = open(\"/content/drive/MyDrive/Colab Notebooks/reviews.json\", \"r\")\n",
        "reviews = f.read()\n",
        "reviews = reviews.replace('\"','')\n",
        "reviews = reviews[1:]\n",
        "reviews = reviews.strip()\n",
        "reviews = reviews.split(\",\")\n",
        "for i in reviews:\n",
        "    i = i.strip()\n",
        "text_list = reviews"
      ]
    },
    {
      "cell_type": "markdown",
      "metadata": {
        "id": "sl8vsy03Np6C"
      },
      "source": [
        "## 5. Configuration du pipeline ( format, encodage du texte, selection du modele pré trainé)"
      ]
    },
    {
      "cell_type": "code",
      "execution_count": null,
      "metadata": {
        "colab": {
          "base_uri": "https://localhost:8080/"
        },
        "id": "IiYxv0mOFIcX",
        "outputId": "1a18db63-708b-439f-c5c0-32f389897df2"
      },
      "outputs": [
        {
          "output_type": "stream",
          "name": "stdout",
          "text": [
            "tfhub_use download started this may take some time.\n",
            "Approximate size to download 923.7 MB\n",
            "[OK!]\n",
            "sentimentdl_use_imdb download started this may take some time.\n",
            "Approximate size to download 12 MB\n",
            "[OK!]\n"
          ]
        }
      ],
      "source": [
        "documentAssembler = DocumentAssembler()\\\n",
        "    .setInputCol(\"text\")\\\n",
        "    .setOutputCol(\"document\")\n",
        "    \n",
        "use = UniversalSentenceEncoder.pretrained(name=\"tfhub_use\", lang=\"en\")\\\n",
        " .setInputCols([\"document\"])\\\n",
        " .setOutputCol(\"sentence_embeddings\")\n",
        "\n",
        "\n",
        "sentimentdl = SentimentDLModel.pretrained(name=MODEL_NAME, lang=\"en\")\\\n",
        "    .setInputCols([\"sentence_embeddings\"])\\\n",
        "    .setOutputCol(\"sentiment\")\n",
        "\n",
        "nlpPipeline = Pipeline(\n",
        "      stages = [\n",
        "          documentAssembler,\n",
        "          use,\n",
        "          sentimentdl\n",
        "      ])\n"
      ]
    },
    {
      "cell_type": "markdown",
      "metadata": {
        "id": "9rFCvvHnN3ox"
      },
      "source": [
        "## 6. Demarrage du pipeline"
      ]
    },
    {
      "cell_type": "code",
      "execution_count": null,
      "metadata": {
        "id": "fu9l7NI4N53g"
      },
      "outputs": [],
      "source": [
        "empty_df = spark.createDataFrame([['']]).toDF(\"text\")\n",
        "\n",
        "pipelineModel = nlpPipeline.fit(empty_df)\n",
        "\n",
        "df = spark.createDataFrame(pd.DataFrame({\"text\":text_list}))\n",
        "result = pipelineModel.transform(df)"
      ]
    },
    {
      "cell_type": "markdown",
      "metadata": {
        "id": "OusXsM-BN2LF"
      },
      "source": [
        "## 7. Visualisation des résultats\n"
      ]
    },
    {
      "cell_type": "code",
      "execution_count": null,
      "metadata": {
        "id": "TzJSQhTnFix5",
        "colab": {
          "base_uri": "https://localhost:8080/"
        },
        "outputId": "4d201352-8c7d-4734-fc8c-8d79253c67c7"
      },
      "outputs": [
        {
          "output_type": "stream",
          "name": "stdout",
          "text": [
            "+-----------------------------------------------------------------------------------------------------------------------------------------------------------------------------------------------------------------------------------------------------------------------------------------+---------+\n",
            "|document                                                                                                                                                                                                                                                                                 |sentiment|\n",
            "+-----------------------------------------------------------------------------------------------------------------------------------------------------------------------------------------------------------------------------------------------------------------------------------------+---------+\n",
            "|I am conflicted with this film and with Marvel.                                                                                                                                                                                                                                          |neg      |\n",
            "|\n",
            "    Let's review the good first. There is a heartfelt tribute to T'Challa and obviously to the actor who played him. The emotions shown feel real and manage to move. The performances are good in this regard. Angela Bassett stands out above the rest.                               |pos      |\n",
            "|\n",
            "    I'm not one to oppose the replacement of Atlantis by Talokan                                                                                                                                                                                                                        |neg      |\n",
            "| as this gives another excellent excuse to show some content that derives from universal culture in gigantic products like the MCU movies. Namor is an excellent addition to the ranks of Marvel superheroes immediately showing how powerful he is and what he is capable of.           |pos      |\n",
            "|\n",
            "    The action sequences are entertaining                                                                                                                                                                                                                                               |pos      |\n",
            "| as Marvel has already accustomed us.                                                                                                                                                                                                                                                    |pos      |\n",
            "|\n",
            "    The wardrobe is also something to value in this film. There is a great effort and meaning behind each of the suits                                                                                                                                                                  |pos      |\n",
            "| which successfully try to mix the different cultures with the new times full of technology. This makes an excellent contribution to character design.                                                                                                                                   |pos      |\n",
            "|\n",
            "    Now what I didn't like about the movie. The entire story feels too light and if you think about it                                                                                                                                                                                  |neg      |\n",
            "| pretty ridiculous. Namor's motivations don't match his plans or his actions throughout the film. Marvel Studios again falls flat when writing and developing their villains. It all feels like a mere excuse for the characters to clash. There is nothing really of weight in the story|neg      |\n",
            "| except for the death of T'Challa                                                                                                                                                                                                                                                        |pos      |\n",
            "| which is also not well used                                                                                                                                                                                                                                                             |neg      |\n",
            "| abusing the drama whenever they can.                                                                                                                                                                                                                                                    |pos      |\n",
            "|\n",
            "    I liked Riri Williams' introduction                                                                                                                                                                                                                                                 |pos      |\n",
            "| but not Ironheart's introduction. The story devoured her as a secondary character and was relegated to the background when in fact the beginning of the film gives her much more importance.                                                                                            |pos      |\n",
            "|\n",
            "    The pacing of the movie is inconsistent. It's pretty monotonous until the action scenes                                                                                                                                                                                             |neg      |\n",
            "| which are good                                                                                                                                                                                                                                                                          |pos      |\n",
            "| but short. Sometimes                                                                                                                                                                                                                                                                    |pos      |\n",
            "| there is too much information happening too fast without giving the opportunity to fully appreciate each sequence and each character involved.                                                                                                                                          |pos      |\n",
            "|\n",
            "    Finally                                                                                                                                                                                                                                                                             |pos      |\n",
            "+-----------------------------------------------------------------------------------------------------------------------------------------------------------------------------------------------------------------------------------------------------------------------------------------+---------+\n",
            "only showing top 20 rows\n",
            "\n"
          ]
        }
      ],
      "source": [
        "\n",
        "result.select(F.explode(F.arrays_zip('document.result', 'sentiment.result')).alias(\"cols\")) \\\n",
        ".select(F.expr(\"cols['0']\").alias(\"document\"),\n",
        "        F.expr(\"cols['1']\").alias(\"sentiment\")).show(truncate=False)\n",
        "baha = result.select(F.explode(F.arrays_zip('document.result', 'sentiment.result')).alias(\"cols\")) \\\n",
        ".select(F.expr(\"cols['0']\").alias(\"document\"),\n",
        "        F.expr(\"cols['1']\").alias(\"sentiment\"))\n",
        "baha.write.csv(\"/content/drive/MyDrive/Colab Notebooks/resultat\")"
      ]
    },
    {
      "cell_type": "code",
      "source": [
        "from google.colab import drive\n",
        "drive.mount('/content/drive')"
      ],
      "metadata": {
        "id": "-WSu2zTS9n4g"
      },
      "execution_count": null,
      "outputs": []
    }
  ],
  "metadata": {
    "colab": {
      "provenance": [],
      "include_colab_link": true
    },
    "interpreter": {
      "hash": "45150093197569bb3a58481dcd32cd1adb45462fa3448719e8ac38ada6166aca"
    },
    "kernelspec": {
      "display_name": "Python 3.6.10 64-bit ('tensorflow2_p36': conda)",
      "name": "python3"
    },
    "language_info": {
      "codemirror_mode": {
        "name": "ipython",
        "version": 3
      },
      "file_extension": ".py",
      "mimetype": "text/x-python",
      "name": "python",
      "nbconvert_exporter": "python",
      "pygments_lexer": "ipython3",
      "version": "3.6.10"
    }
  },
  "nbformat": 4,
  "nbformat_minor": 0
}